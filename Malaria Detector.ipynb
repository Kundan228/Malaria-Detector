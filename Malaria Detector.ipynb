{
 "cells": [
  {
   "cell_type": "code",
   "execution_count": 1,
   "id": "absent-strap",
   "metadata": {},
   "outputs": [],
   "source": [
    "# import important library\n",
    "import numpy as np\n",
    "import tensorflow as tf\n",
    "from keras.layers import Activation,Dense,Flatten\n",
    "from keras.layers import Conv2D,MaxPooling2D"
   ]
  },
  {
   "cell_type": "code",
   "execution_count": 2,
   "id": "spatial-review",
   "metadata": {},
   "outputs": [],
   "source": [
    "# re-shaping all images into 224*224\n",
    "image_size = [224,224]"
   ]
  },
  {
   "cell_type": "code",
   "execution_count": 3,
   "id": "metallic-finland",
   "metadata": {},
   "outputs": [
    {
     "name": "stdout",
     "output_type": "stream",
     "text": [
      "Found 416 images belonging to 2 classes.\n"
     ]
    }
   ],
   "source": [
    "# get a data from images\n",
    "# for train data \n",
    "from keras.preprocessing.image import ImageDataGenerator\n",
    "train_datagen = ImageDataGenerator(rescale=1./255,zoom_range=0.2,shear_range=0.2,horizontal_flip=True)\n",
    "train_set = train_datagen.flow_from_directory('Dataset/train',target_size=(224,224),batch_size=32,class_mode='categorical')"
   ]
  },
  {
   "cell_type": "code",
   "execution_count": 4,
   "id": "floppy-queensland",
   "metadata": {},
   "outputs": [
    {
     "name": "stdout",
     "output_type": "stream",
     "text": [
      "Found 134 images belonging to 2 classes.\n"
     ]
    }
   ],
   "source": [
    "# for test data\n",
    "test_datagen = ImageDataGenerator(rescale=1./255)\n",
    "test_set = test_datagen.flow_from_directory('Dataset/test',target_size=(224,224),batch_size=32,class_mode='categorical')"
   ]
  },
  {
   "cell_type": "code",
   "execution_count": 5,
   "id": "attempted-affairs",
   "metadata": {},
   "outputs": [],
   "source": [
    "# import vgg19 library\n",
    "from tensorflow.keras.applications.vgg19 import VGG19\n",
    "vgg19 = VGG19(input_shape=image_size + [3] ,include_top = False)"
   ]
  },
  {
   "cell_type": "code",
   "execution_count": 6,
   "id": "established-assurance",
   "metadata": {},
   "outputs": [],
   "source": [
    "# we dont train existing weight\n",
    "for layer in vgg19.layers:\n",
    "    layer.trainable = False"
   ]
  },
  {
   "cell_type": "code",
   "execution_count": 7,
   "id": "blocked-international",
   "metadata": {},
   "outputs": [
    {
     "name": "stdout",
     "output_type": "stream",
     "text": [
      "Model: \"vgg19\"\n",
      "_________________________________________________________________\n",
      "Layer (type)                 Output Shape              Param #   \n",
      "=================================================================\n",
      "input_1 (InputLayer)         [(None, 224, 224, 3)]     0         \n",
      "_________________________________________________________________\n",
      "block1_conv1 (Conv2D)        (None, 224, 224, 64)      1792      \n",
      "_________________________________________________________________\n",
      "block1_conv2 (Conv2D)        (None, 224, 224, 64)      36928     \n",
      "_________________________________________________________________\n",
      "block1_pool (MaxPooling2D)   (None, 112, 112, 64)      0         \n",
      "_________________________________________________________________\n",
      "block2_conv1 (Conv2D)        (None, 112, 112, 128)     73856     \n",
      "_________________________________________________________________\n",
      "block2_conv2 (Conv2D)        (None, 112, 112, 128)     147584    \n",
      "_________________________________________________________________\n",
      "block2_pool (MaxPooling2D)   (None, 56, 56, 128)       0         \n",
      "_________________________________________________________________\n",
      "block3_conv1 (Conv2D)        (None, 56, 56, 256)       295168    \n",
      "_________________________________________________________________\n",
      "block3_conv2 (Conv2D)        (None, 56, 56, 256)       590080    \n",
      "_________________________________________________________________\n",
      "block3_conv3 (Conv2D)        (None, 56, 56, 256)       590080    \n",
      "_________________________________________________________________\n",
      "block3_conv4 (Conv2D)        (None, 56, 56, 256)       590080    \n",
      "_________________________________________________________________\n",
      "block3_pool (MaxPooling2D)   (None, 28, 28, 256)       0         \n",
      "_________________________________________________________________\n",
      "block4_conv1 (Conv2D)        (None, 28, 28, 512)       1180160   \n",
      "_________________________________________________________________\n",
      "block4_conv2 (Conv2D)        (None, 28, 28, 512)       2359808   \n",
      "_________________________________________________________________\n",
      "block4_conv3 (Conv2D)        (None, 28, 28, 512)       2359808   \n",
      "_________________________________________________________________\n",
      "block4_conv4 (Conv2D)        (None, 28, 28, 512)       2359808   \n",
      "_________________________________________________________________\n",
      "block4_pool (MaxPooling2D)   (None, 14, 14, 512)       0         \n",
      "_________________________________________________________________\n",
      "block5_conv1 (Conv2D)        (None, 14, 14, 512)       2359808   \n",
      "_________________________________________________________________\n",
      "block5_conv2 (Conv2D)        (None, 14, 14, 512)       2359808   \n",
      "_________________________________________________________________\n",
      "block5_conv3 (Conv2D)        (None, 14, 14, 512)       2359808   \n",
      "_________________________________________________________________\n",
      "block5_conv4 (Conv2D)        (None, 14, 14, 512)       2359808   \n",
      "_________________________________________________________________\n",
      "block5_pool (MaxPooling2D)   (None, 7, 7, 512)         0         \n",
      "=================================================================\n",
      "Total params: 20,024,384\n",
      "Trainable params: 0\n",
      "Non-trainable params: 20,024,384\n",
      "_________________________________________________________________\n"
     ]
    }
   ],
   "source": [
    "vgg19.summary()"
   ]
  },
  {
   "cell_type": "code",
   "execution_count": 8,
   "id": "dominant-exercise",
   "metadata": {},
   "outputs": [
    {
     "data": {
      "text/plain": [
       "['Dataset/train\\\\Parasite', 'Dataset/train\\\\Uninfected']"
      ]
     },
     "execution_count": 8,
     "metadata": {},
     "output_type": "execute_result"
    }
   ],
   "source": [
    "# Find output classes \n",
    "from glob import glob\n",
    "folder = glob('Dataset/train/*')\n",
    "folder"
   ]
  },
  {
   "cell_type": "code",
   "execution_count": 9,
   "id": "black-secretariat",
   "metadata": {},
   "outputs": [],
   "source": [
    "x = Flatten()(vgg19.output)"
   ]
  },
  {
   "cell_type": "code",
   "execution_count": 10,
   "id": "roman-clothing",
   "metadata": {},
   "outputs": [],
   "source": [
    "prediction = Dense(len(folder), activation = 'softmax')(x)"
   ]
  },
  {
   "cell_type": "code",
   "execution_count": 11,
   "id": "addressed-gnome",
   "metadata": {},
   "outputs": [],
   "source": [
    "# import model to create model\n",
    "from tensorflow.keras.models import Model\n",
    "from keras.models import Sequential\n",
    "model = Model(inputs = vgg19.input , outputs = prediction)"
   ]
  },
  {
   "cell_type": "code",
   "execution_count": 12,
   "id": "intimate-ensemble",
   "metadata": {},
   "outputs": [
    {
     "name": "stdout",
     "output_type": "stream",
     "text": [
      "Model: \"model\"\n",
      "_________________________________________________________________\n",
      "Layer (type)                 Output Shape              Param #   \n",
      "=================================================================\n",
      "input_1 (InputLayer)         [(None, 224, 224, 3)]     0         \n",
      "_________________________________________________________________\n",
      "block1_conv1 (Conv2D)        (None, 224, 224, 64)      1792      \n",
      "_________________________________________________________________\n",
      "block1_conv2 (Conv2D)        (None, 224, 224, 64)      36928     \n",
      "_________________________________________________________________\n",
      "block1_pool (MaxPooling2D)   (None, 112, 112, 64)      0         \n",
      "_________________________________________________________________\n",
      "block2_conv1 (Conv2D)        (None, 112, 112, 128)     73856     \n",
      "_________________________________________________________________\n",
      "block2_conv2 (Conv2D)        (None, 112, 112, 128)     147584    \n",
      "_________________________________________________________________\n",
      "block2_pool (MaxPooling2D)   (None, 56, 56, 128)       0         \n",
      "_________________________________________________________________\n",
      "block3_conv1 (Conv2D)        (None, 56, 56, 256)       295168    \n",
      "_________________________________________________________________\n",
      "block3_conv2 (Conv2D)        (None, 56, 56, 256)       590080    \n",
      "_________________________________________________________________\n",
      "block3_conv3 (Conv2D)        (None, 56, 56, 256)       590080    \n",
      "_________________________________________________________________\n",
      "block3_conv4 (Conv2D)        (None, 56, 56, 256)       590080    \n",
      "_________________________________________________________________\n",
      "block3_pool (MaxPooling2D)   (None, 28, 28, 256)       0         \n",
      "_________________________________________________________________\n",
      "block4_conv1 (Conv2D)        (None, 28, 28, 512)       1180160   \n",
      "_________________________________________________________________\n",
      "block4_conv2 (Conv2D)        (None, 28, 28, 512)       2359808   \n",
      "_________________________________________________________________\n",
      "block4_conv3 (Conv2D)        (None, 28, 28, 512)       2359808   \n",
      "_________________________________________________________________\n",
      "block4_conv4 (Conv2D)        (None, 28, 28, 512)       2359808   \n",
      "_________________________________________________________________\n",
      "block4_pool (MaxPooling2D)   (None, 14, 14, 512)       0         \n",
      "_________________________________________________________________\n",
      "block5_conv1 (Conv2D)        (None, 14, 14, 512)       2359808   \n",
      "_________________________________________________________________\n",
      "block5_conv2 (Conv2D)        (None, 14, 14, 512)       2359808   \n",
      "_________________________________________________________________\n",
      "block5_conv3 (Conv2D)        (None, 14, 14, 512)       2359808   \n",
      "_________________________________________________________________\n",
      "block5_conv4 (Conv2D)        (None, 14, 14, 512)       2359808   \n",
      "_________________________________________________________________\n",
      "block5_pool (MaxPooling2D)   (None, 7, 7, 512)         0         \n",
      "_________________________________________________________________\n",
      "flatten (Flatten)            (None, 25088)             0         \n",
      "_________________________________________________________________\n",
      "dense (Dense)                (None, 2)                 50178     \n",
      "=================================================================\n",
      "Total params: 20,074,562\n",
      "Trainable params: 50,178\n",
      "Non-trainable params: 20,024,384\n",
      "_________________________________________________________________\n"
     ]
    }
   ],
   "source": [
    "model.summary()"
   ]
  },
  {
   "cell_type": "code",
   "execution_count": 17,
   "id": "threatened-stephen",
   "metadata": {},
   "outputs": [],
   "source": [
    "### Create Model  using CNN\n",
    "model = Sequential()\n",
    "model.add(Conv2D(filters = 16,input_shape = (224,224,3),kernel_size = 2,activation = 'relu' , padding  = 'same'))\n",
    "model.add(MaxPooling2D(pool_size = 2))\n",
    "model.add(Conv2D(filters = 32,padding = 'same',kernel_size = 2,activation = 'relu'))\n",
    "model.add(MaxPooling2D(pool_size = 2))\n",
    "model.add(Conv2D(filters = 64,padding = 'same',kernel_size = 2,activation = 'relu'))\n",
    "model.add(MaxPooling2D(pool_size = 2))\n",
    "model.add(Flatten())\n",
    "model.add(Dense(512,activation = 'relu'))\n",
    "model.add(Dense(2,activation = 'softmax'))"
   ]
  },
  {
   "cell_type": "code",
   "execution_count": 18,
   "id": "banned-rating",
   "metadata": {},
   "outputs": [
    {
     "name": "stdout",
     "output_type": "stream",
     "text": [
      "Model: \"sequential_1\"\n",
      "_________________________________________________________________\n",
      "Layer (type)                 Output Shape              Param #   \n",
      "=================================================================\n",
      "conv2d_3 (Conv2D)            (None, 224, 224, 16)      208       \n",
      "_________________________________________________________________\n",
      "max_pooling2d_3 (MaxPooling2 (None, 112, 112, 16)      0         \n",
      "_________________________________________________________________\n",
      "conv2d_4 (Conv2D)            (None, 112, 112, 32)      2080      \n",
      "_________________________________________________________________\n",
      "max_pooling2d_4 (MaxPooling2 (None, 56, 56, 32)        0         \n",
      "_________________________________________________________________\n",
      "conv2d_5 (Conv2D)            (None, 56, 56, 64)        8256      \n",
      "_________________________________________________________________\n",
      "max_pooling2d_5 (MaxPooling2 (None, 28, 28, 64)        0         \n",
      "_________________________________________________________________\n",
      "flatten_1 (Flatten)          (None, 50176)             0         \n",
      "_________________________________________________________________\n",
      "dense_3 (Dense)              (None, 512)               25690624  \n",
      "_________________________________________________________________\n",
      "dense_4 (Dense)              (None, 2)                 1026      \n",
      "=================================================================\n",
      "Total params: 25,702,194\n",
      "Trainable params: 25,702,194\n",
      "Non-trainable params: 0\n",
      "_________________________________________________________________\n"
     ]
    }
   ],
   "source": [
    "model.summary()"
   ]
  },
  {
   "cell_type": "code",
   "execution_count": 19,
   "id": "interpreted-timber",
   "metadata": {},
   "outputs": [],
   "source": [
    "model.compile(optimizer='adam',loss='categorical_crossentropy',metrics=['accuracy'])"
   ]
  },
  {
   "cell_type": "code",
   "execution_count": 38,
   "id": "billion-david",
   "metadata": {},
   "outputs": [
    {
     "name": "stdout",
     "output_type": "stream",
     "text": [
      "Epoch 1/10\n",
      "13/13 [==============================] - 8s 578ms/step - loss: 0.3258 - accuracy: 0.8774 - val_loss: 0.6440 - val_accuracy: 0.6194\n",
      "Epoch 2/10\n",
      "13/13 [==============================] - 9s 706ms/step - loss: 0.2544 - accuracy: 0.9038 - val_loss: 0.9233 - val_accuracy: 0.6642\n",
      "Epoch 3/10\n",
      "13/13 [==============================] - 8s 625ms/step - loss: 0.2638 - accuracy: 0.9062 - val_loss: 0.4691 - val_accuracy: 0.7537\n",
      "Epoch 4/10\n",
      "13/13 [==============================] - 11s 763ms/step - loss: 0.1799 - accuracy: 0.9423 - val_loss: 0.6606 - val_accuracy: 0.7537\n",
      "Epoch 5/10\n",
      "13/13 [==============================] - 11s 818ms/step - loss: 0.1483 - accuracy: 0.9519 - val_loss: 0.3549 - val_accuracy: 0.8358\n",
      "Epoch 6/10\n",
      "13/13 [==============================] - 10s 766ms/step - loss: 0.1427 - accuracy: 0.9615 - val_loss: 0.3488 - val_accuracy: 0.8507\n",
      "Epoch 7/10\n",
      "13/13 [==============================] - 10s 741ms/step - loss: 0.1226 - accuracy: 0.9591 - val_loss: 0.3066 - val_accuracy: 0.8657\n",
      "Epoch 8/10\n",
      "13/13 [==============================] - 11s 847ms/step - loss: 0.1030 - accuracy: 0.9808 - val_loss: 0.3965 - val_accuracy: 0.8582\n",
      "Epoch 9/10\n",
      "13/13 [==============================] - 10s 762ms/step - loss: 0.1048 - accuracy: 0.9639 - val_loss: 0.3117 - val_accuracy: 0.8731\n",
      "Epoch 10/10\n",
      "13/13 [==============================] - 10s 790ms/step - loss: 0.0735 - accuracy: 0.9760 - val_loss: 1.1071 - val_accuracy: 0.7985\n"
     ]
    }
   ],
   "source": [
    " m = model.fit(train_set, validation_data=test_set,epochs=10,steps_per_epoch=len(train_set),validation_steps=len(test_set))"
   ]
  },
  {
   "cell_type": "code",
   "execution_count": 41,
   "id": "advisory-upper",
   "metadata": {},
   "outputs": [],
   "source": [
    "# import matplotlib\n",
    "import matplotlib.pyplot as plt\n",
    "plt.style.use('ggplot')"
   ]
  },
  {
   "cell_type": "code",
   "execution_count": 45,
   "id": "rough-disposition",
   "metadata": {},
   "outputs": [
    {
     "data": {
      "text/plain": [
       "<matplotlib.legend.Legend at 0x27d3fc0fd90>"
      ]
     },
     "execution_count": 45,
     "metadata": {},
     "output_type": "execute_result"
    },
    {
     "data": {
      "image/png": "[encoded data removed]",
      "text/plain": [
       "<Figure size 432x288 with 1 Axes>"
      ]
     },
     "metadata": {},
     "output_type": "display_data"
    }
   ],
   "source": [
    "# plot the loss\n",
    "plt.plot(m.history['loss'],label ='loss')\n",
    "plt.plot(m.history['val_loss'], label = 'val_loss')\n",
    "plt.legend()"
   ]
  },
  {
   "cell_type": "code",
   "execution_count": 46,
   "id": "chubby-geneva",
   "metadata": {},
   "outputs": [
    {
     "data": {
      "text/plain": [
       "<matplotlib.legend.Legend at 0x27d3fc78dc0>"
      ]
     },
     "execution_count": 46,
     "metadata": {},
     "output_type": "execute_result"
    },
    {
     "data": {
      "image/png": "[encoded data removed]",
      "text/plain": [
       "<Figure size 432x288 with 1 Axes>"
      ]
     },
     "metadata": {},
     "output_type": "display_data"
    }
   ],
   "source": [
    "# plot the accuracy\n",
    "plt.plot(m.history['accuracy'],label ='accuracy')\n",
    "plt.plot(m.history['val_accuracy'], label = 'val_accuracy')\n",
    "plt.legend()"
   ]
  },
  {
   "cell_type": "code",
   "execution_count": 47,
   "id": "peripheral-address",
   "metadata": {},
   "outputs": [],
   "source": [
    "y_pred = model.predict(test_set)"
   ]
  },
  {
   "cell_type": "code",
   "execution_count": 48,
   "id": "entitled-squad",
   "metadata": {},
   "outputs": [
    {
     "data": {
      "text/plain": [
       "array([[5.32886326e-01, 4.67113703e-01],\n",
       "       [9.99995708e-01, 4.30725049e-06],\n",
       "       [9.99247849e-01, 7.52105378e-04],\n",
       "       [9.95830119e-01, 4.16985666e-03],\n",
       "       [1.00000000e+00, 7.19822335e-09],\n",
       "       [2.21702933e-01, 7.78297067e-01],\n",
       "       [9.93219912e-01, 6.78012753e-03],\n",
       "       [1.00000000e+00, 2.53059210e-19],\n",
       "       [1.18259244e-01, 8.81740749e-01],\n",
       "       [9.99928474e-01, 7.15208371e-05],\n",
       "       [1.03137821e-01, 8.96862209e-01],\n",
       "       [9.99729335e-01, 2.70708028e-04],\n",
       "       [9.99932051e-01, 6.79986406e-05],\n",
       "       [9.99948502e-01, 5.14550193e-05],\n",
       "       [7.57071525e-02, 9.24292803e-01],\n",
       "       [1.67453453e-01, 8.32546532e-01],\n",
       "       [9.87595081e-01, 1.24049615e-02],\n",
       "       [9.99999881e-01, 1.71484075e-07],\n",
       "       [1.89140588e-01, 8.10859382e-01],\n",
       "       [3.49926859e-01, 6.50073111e-01],\n",
       "       [9.99992132e-01, 7.83112318e-06],\n",
       "       [8.85878086e-01, 1.14121929e-01],\n",
       "       [9.99978662e-01, 2.13163294e-05],\n",
       "       [1.71750356e-02, 9.82824981e-01],\n",
       "       [9.99292254e-01, 7.07678439e-04],\n",
       "       [9.99995351e-01, 4.64107234e-06],\n",
       "       [9.99150753e-01, 8.49202741e-04],\n",
       "       [4.89352405e-01, 5.10647595e-01],\n",
       "       [1.00000000e+00, 1.61564486e-08],\n",
       "       [5.15714474e-02, 9.48428571e-01],\n",
       "       [9.99994636e-01, 5.35011714e-06],\n",
       "       [9.99997497e-01, 2.50415110e-06],\n",
       "       [9.99998808e-01, 1.16486990e-06],\n",
       "       [5.73237777e-01, 4.26762193e-01],\n",
       "       [1.00000000e+00, 1.68241616e-08],\n",
       "       [9.97675121e-01, 2.32485193e-03],\n",
       "       [9.99989867e-01, 1.00929046e-05],\n",
       "       [9.86123681e-01, 1.38762742e-02],\n",
       "       [4.17723060e-02, 9.58227694e-01],\n",
       "       [7.63399452e-02, 9.23660100e-01],\n",
       "       [1.00000000e+00, 1.43436475e-14],\n",
       "       [8.17021668e-01, 1.82978377e-01],\n",
       "       [1.00000000e+00, 5.27838253e-08],\n",
       "       [9.99765694e-01, 2.34309104e-04],\n",
       "       [1.40610084e-01, 8.59389901e-01],\n",
       "       [7.61592463e-02, 9.23840761e-01],\n",
       "       [9.04523909e-01, 9.54761207e-02],\n",
       "       [1.00000000e+00, 2.13273683e-19],\n",
       "       [4.13513258e-02, 9.58648622e-01],\n",
       "       [9.99904633e-01, 9.53107883e-05],\n",
       "       [9.61928725e-01, 3.80712934e-02],\n",
       "       [1.00000000e+00, 3.48693470e-12],\n",
       "       [9.99988914e-01, 1.10668771e-05],\n",
       "       [9.99995708e-01, 4.27791929e-06],\n",
       "       [9.99604166e-01, 3.95838870e-04],\n",
       "       [1.00000000e+00, 5.66972129e-11],\n",
       "       [1.00000000e+00, 3.17727518e-17],\n",
       "       [9.99969125e-01, 3.08472918e-05],\n",
       "       [9.99999762e-01, 2.24829265e-07],\n",
       "       [9.99945164e-01, 5.48559401e-05],\n",
       "       [8.14403892e-02, 9.18559611e-01],\n",
       "       [9.99999404e-01, 5.38603672e-07],\n",
       "       [2.59416372e-01, 7.40583599e-01],\n",
       "       [5.35670295e-02, 9.46432948e-01],\n",
       "       [9.20587540e-01, 7.94124901e-02],\n",
       "       [5.81792593e-01, 4.18207377e-01],\n",
       "       [1.00000000e+00, 1.93605765e-12],\n",
       "       [9.99461353e-01, 5.38655731e-04],\n",
       "       [9.99999762e-01, 1.94625102e-07],\n",
       "       [1.00000000e+00, 2.14171592e-09],\n",
       "       [2.08567813e-01, 7.91432142e-01],\n",
       "       [4.75528240e-01, 5.24471760e-01],\n",
       "       [9.99909401e-01, 9.05389461e-05],\n",
       "       [9.99086499e-01, 9.13490192e-04],\n",
       "       [1.00000000e+00, 6.85659255e-12],\n",
       "       [1.00000000e+00, 4.60523190e-19],\n",
       "       [9.88572478e-01, 1.14275422e-02],\n",
       "       [7.72573948e-02, 9.22742605e-01],\n",
       "       [9.99997377e-01, 2.62818480e-06],\n",
       "       [1.00000000e+00, 1.65288654e-08],\n",
       "       [9.99280632e-01, 7.19409902e-04],\n",
       "       [1.80687308e-01, 8.19312632e-01],\n",
       "       [1.00000000e+00, 1.42724021e-09],\n",
       "       [9.99977112e-01, 2.29232010e-05],\n",
       "       [9.99998808e-01, 1.23687596e-06],\n",
       "       [9.74043235e-02, 9.02595699e-01],\n",
       "       [6.50996268e-02, 9.34900403e-01],\n",
       "       [9.99692798e-01, 3.07286595e-04],\n",
       "       [9.99989748e-01, 1.02383792e-05],\n",
       "       [2.49282792e-01, 7.50717223e-01],\n",
       "       [9.92375433e-01, 7.62453536e-03],\n",
       "       [9.99995589e-01, 4.41927386e-06],\n",
       "       [8.96543637e-02, 9.10345614e-01],\n",
       "       [9.95903909e-01, 4.09606611e-03],\n",
       "       [9.64727759e-01, 3.52722220e-02],\n",
       "       [9.99823749e-01, 1.76258080e-04],\n",
       "       [9.99998450e-01, 1.56047361e-06],\n",
       "       [9.99993443e-01, 6.54950054e-06],\n",
       "       [4.22562174e-02, 9.57743824e-01],\n",
       "       [9.99912858e-01, 8.71892480e-05],\n",
       "       [9.99439061e-01, 5.60917135e-04],\n",
       "       [9.71468270e-01, 2.85317525e-02],\n",
       "       [9.98758554e-01, 1.24148990e-03],\n",
       "       [8.32067281e-02, 9.16793287e-01],\n",
       "       [9.99887586e-01, 1.12343841e-04],\n",
       "       [1.00000000e+00, 2.19802287e-10],\n",
       "       [9.99999762e-01, 2.07904549e-07],\n",
       "       [9.99904990e-01, 9.49622408e-05],\n",
       "       [1.00000000e+00, 1.41990836e-10],\n",
       "       [1.00000000e+00, 7.78877463e-10],\n",
       "       [2.49163553e-01, 7.50836492e-01],\n",
       "       [9.85584557e-01, 1.44154476e-02],\n",
       "       [9.99957681e-01, 4.22691337e-05],\n",
       "       [1.00000000e+00, 3.36931409e-17],\n",
       "       [2.22002447e-01, 7.77997553e-01],\n",
       "       [1.00000000e+00, 1.08027576e-09],\n",
       "       [9.94688392e-01, 5.31160552e-03],\n",
       "       [9.98317361e-01, 1.68268871e-03],\n",
       "       [9.99821961e-01, 1.78047063e-04],\n",
       "       [5.45372128e-01, 4.54627812e-01],\n",
       "       [9.99020219e-01, 9.79757635e-04],\n",
       "       [9.99920130e-01, 7.99135378e-05],\n",
       "       [1.00000000e+00, 6.37927655e-10],\n",
       "       [1.00000000e+00, 2.20020198e-08],\n",
       "       [9.99963045e-01, 3.68976762e-05],\n",
       "       [9.99206483e-01, 7.93484505e-04],\n",
       "       [9.99984741e-01, 1.52427319e-05],\n",
       "       [9.56300855e-01, 4.36991490e-02],\n",
       "       [9.84662294e-01, 1.53377373e-02],\n",
       "       [9.99999642e-01, 3.90368598e-07],\n",
       "       [4.98320088e-02, 9.50168073e-01],\n",
       "       [9.99982357e-01, 1.76460580e-05],\n",
       "       [9.99986410e-01, 1.35854043e-05],\n",
       "       [1.86860546e-01, 8.13139439e-01]], dtype=float32)"
      ]
     },
     "execution_count": 48,
     "metadata": {},
     "output_type": "execute_result"
    }
   ],
   "source": [
    "y_pred"
   ]
  },
  {
   "cell_type": "code",
   "execution_count": 49,
   "id": "alike-marking",
   "metadata": {},
   "outputs": [],
   "source": [
    "# save the model\n",
    "from tensorflow.keras.models import load_model\n",
    "from tensorflow.keras.models import load_model\n",
    "model.save('model_vgg19.h5')"
   ]
  },
  {
   "cell_type": "code",
   "execution_count": 50,
   "id": "powered-astronomy",
   "metadata": {},
   "outputs": [],
   "source": [
    "# test loaded model \n",
    "from keras.preprocessing import image\n",
    "img = image.load_img('Dataset/test/Parasite/q.png',target_size=(224,224))"
   ]
  },
  {
   "cell_type": "code",
   "execution_count": 51,
   "id": "headed-composite",
   "metadata": {},
   "outputs": [
    {
     "data": {
      "image/png": "[encoded data removed]",
      "text/plain": [
       "<PIL.Image.Image image mode=RGB size=224x224 at 0x27D3FA3A970>"
      ]
     },
     "execution_count": 51,
     "metadata": {},
     "output_type": "execute_result"
    }
   ],
   "source": [
    "img"
   ]
  },
  {
   "cell_type": "code",
   "execution_count": 52,
   "id": "departmental-union",
   "metadata": {},
   "outputs": [
    {
     "data": {
      "text/plain": [
       "array([[[0., 0., 0.],\n",
       "        [0., 0., 0.],\n",
       "        [0., 0., 0.],\n",
       "        ...,\n",
       "        [0., 0., 0.],\n",
       "        [0., 0., 0.],\n",
       "        [0., 0., 0.]],\n",
       "\n",
       "       [[0., 0., 0.],\n",
       "        [0., 0., 0.],\n",
       "        [0., 0., 0.],\n",
       "        ...,\n",
       "        [0., 0., 0.],\n",
       "        [0., 0., 0.],\n",
       "        [0., 0., 0.]],\n",
       "\n",
       "       [[0., 0., 0.],\n",
       "        [0., 0., 0.],\n",
       "        [0., 0., 0.],\n",
       "        ...,\n",
       "        [0., 0., 0.],\n",
       "        [0., 0., 0.],\n",
       "        [0., 0., 0.]],\n",
       "\n",
       "       ...,\n",
       "\n",
       "       [[0., 0., 0.],\n",
       "        [0., 0., 0.],\n",
       "        [0., 0., 0.],\n",
       "        ...,\n",
       "        [0., 0., 0.],\n",
       "        [0., 0., 0.],\n",
       "        [0., 0., 0.]],\n",
       "\n",
       "       [[0., 0., 0.],\n",
       "        [0., 0., 0.],\n",
       "        [0., 0., 0.],\n",
       "        ...,\n",
       "        [0., 0., 0.],\n",
       "        [0., 0., 0.],\n",
       "        [0., 0., 0.]],\n",
       "\n",
       "       [[0., 0., 0.],\n",
       "        [0., 0., 0.],\n",
       "        [0., 0., 0.],\n",
       "        ...,\n",
       "        [0., 0., 0.],\n",
       "        [0., 0., 0.],\n",
       "        [0., 0., 0.]]], dtype=float32)"
      ]
     },
     "execution_count": 52,
     "metadata": {},
     "output_type": "execute_result"
    }
   ],
   "source": [
    "img = image.img_to_array(img)\n",
    "img"
   ]
  },
  {
   "cell_type": "code",
   "execution_count": 53,
   "id": "august-plaza",
   "metadata": {},
   "outputs": [
    {
     "data": {
      "text/plain": [
       "(224, 224, 3)"
      ]
     },
     "execution_count": 53,
     "metadata": {},
     "output_type": "execute_result"
    }
   ],
   "source": [
    "img.shape"
   ]
  },
  {
   "cell_type": "code",
   "execution_count": 54,
   "id": "unlimited-journalist",
   "metadata": {},
   "outputs": [],
   "source": [
    "img = img/255"
   ]
  },
  {
   "cell_type": "code",
   "execution_count": 55,
   "id": "amino-williams",
   "metadata": {},
   "outputs": [],
   "source": [
    "x = np.expand_dims(img,axis = 0)"
   ]
  },
  {
   "cell_type": "code",
   "execution_count": 56,
   "id": "conservative-click",
   "metadata": {},
   "outputs": [
    {
     "data": {
      "text/plain": [
       "(1, 224, 224, 3)"
      ]
     },
     "execution_count": 56,
     "metadata": {},
     "output_type": "execute_result"
    }
   ],
   "source": [
    "x.shape"
   ]
  },
  {
   "cell_type": "code",
   "execution_count": 57,
   "id": "blocked-proceeding",
   "metadata": {},
   "outputs": [
    {
     "data": {
      "text/plain": [
       "array([[9.9998474e-01, 1.5242703e-05]], dtype=float32)"
      ]
     },
     "execution_count": 57,
     "metadata": {},
     "output_type": "execute_result"
    }
   ],
   "source": [
    "model.predict(x)"
   ]
  },
  {
   "cell_type": "code",
   "execution_count": 58,
   "id": "appreciated-naples",
   "metadata": {},
   "outputs": [],
   "source": [
    "a = np.argmax(model.predict(x),axis = 1)"
   ]
  },
  {
   "cell_type": "code",
   "execution_count": 59,
   "id": "eastern-departure",
   "metadata": {},
   "outputs": [
    {
     "name": "stdout",
     "output_type": "stream",
     "text": [
      "Infected\n"
     ]
    }
   ],
   "source": [
    "# check image \n",
    "if a == 1 :\n",
    "    print('Uninfected')\n",
    "else:\n",
    "    print('Infected')"
   ]
  },
  {
   "cell_type": "code",
   "execution_count": null,
   "id": "regular-forwarding",
   "metadata": {},
   "outputs": [],
   "source": []
  }
 ],
 "metadata": {
  "kernelspec": {
   "display_name": "Python 3",
   "language": "python",
   "name": "python3"
  },
  "language_info": {
   "codemirror_mode": {
    "name": "ipython",
    "version": 3
   },
   "file_extension": ".py",
   "mimetype": "text/x-python",
   "name": "python",
   "nbconvert_exporter": "python",
   "pygments_lexer": "ipython3",
   "version": "3.8.0"
  }
 },
 "nbformat": 4,
 "nbformat_minor": 5
}
